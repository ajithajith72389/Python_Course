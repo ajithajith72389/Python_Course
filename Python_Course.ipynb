{
  "nbformat": 4,
  "nbformat_minor": 0,
  "metadata": {
    "colab": {
      "provenance": [],
      "toc_visible": true,
      "authorship_tag": "ABX9TyPkaD8IxE5ki2uucKn4pYDj",
      "include_colab_link": true
    },
    "kernelspec": {
      "name": "python3",
      "display_name": "Python 3"
    },
    "language_info": {
      "name": "python"
    }
  },
  "cells": [
    {
      "cell_type": "markdown",
      "metadata": {
        "id": "view-in-github",
        "colab_type": "text"
      },
      "source": [
        "<a href=\"https://colab.research.google.com/github/ajithajith72389/Python_Course/blob/main/Python_Course.ipynb\" target=\"_parent\"><img src=\"https://colab.research.google.com/assets/colab-badge.svg\" alt=\"Open In Colab\"/></a>"
      ]
    },
    {
      "cell_type": "markdown",
      "source": [
        "# Python Terms"
      ],
      "metadata": {
        "id": "JFW01bpERNKh"
      }
    },
    {
      "cell_type": "markdown",
      "source": [
        "Python Terms\n",
        "1. Object\n",
        "2. Variable\n",
        "3. Function\n",
        "4. Class\n",
        "5. Method\n",
        "6. Attribute"
      ],
      "metadata": {
        "id": "P3ANc8R-Go7A"
      }
    },
    {
      "cell_type": "markdown",
      "source": [
        "**Object: The Data Records**\n",
        "\n",
        "In data analytics, an object is like a spreadsheet. Each record can have multiple fields, such as job title, location, salary\n",
        "\n",
        "**Object** : A data record with fields; an instance of a class."
      ],
      "metadata": {
        "id": "ZZkyqXk3HK72"
      }
    },
    {
      "cell_type": "code",
      "source": [
        "90000 # this is an object"
      ],
      "metadata": {
        "colab": {
          "base_uri": "https://localhost:8080/"
        },
        "id": "ZI5e0HToGn--",
        "outputId": "a2460fec-2dd0-4037-ea9a-2e9b9f2b122c"
      },
      "execution_count": null,
      "outputs": [
        {
          "output_type": "execute_result",
          "data": {
            "text/plain": [
              "90000"
            ]
          },
          "metadata": {},
          "execution_count": 1
        }
      ]
    },
    {
      "cell_type": "code",
      "source": [
        "\"Data Analytics\" # this is an object"
      ],
      "metadata": {
        "colab": {
          "base_uri": "https://localhost:8080/",
          "height": 35
        },
        "id": "vIzmScZIGoQh",
        "outputId": "2e716346-33a0-46a2-96c1-059f3a036837"
      },
      "execution_count": null,
      "outputs": [
        {
          "output_type": "execute_result",
          "data": {
            "text/plain": [
              "'Data Analytics'"
            ],
            "application/vnd.google.colaboratory.intrinsic+json": {
              "type": "string"
            }
          },
          "metadata": {},
          "execution_count": 2
        }
      ]
    },
    {
      "cell_type": "markdown",
      "source": [
        "Python is object-oriented, so even datatypes are object."
      ],
      "metadata": {
        "id": "wOn5HQqrIALl"
      }
    },
    {
      "cell_type": "code",
      "source": [
        "type(\"Data Analytics\")  # this shows that this is an instance of the class  'str'"
      ],
      "metadata": {
        "colab": {
          "base_uri": "https://localhost:8080/"
        },
        "id": "3lKWnsSwGoce",
        "outputId": "cefb5777-687e-4c45-fb4c-9e99ce113bea"
      },
      "execution_count": null,
      "outputs": [
        {
          "output_type": "execute_result",
          "data": {
            "text/plain": [
              "str"
            ]
          },
          "metadata": {},
          "execution_count": 3
        }
      ]
    },
    {
      "cell_type": "code",
      "source": [
        "str # technically, this is an object too! as it's an instance of the class 'type'"
      ],
      "metadata": {
        "colab": {
          "base_uri": "https://localhost:8080/"
        },
        "id": "RGHZks0mInKJ",
        "outputId": "b8e65efb-add0-485c-9119-1dac67d51907"
      },
      "execution_count": null,
      "outputs": [
        {
          "output_type": "execute_result",
          "data": {
            "text/plain": [
              "str"
            ]
          },
          "metadata": {},
          "execution_count": 4
        }
      ]
    },
    {
      "cell_type": "code",
      "source": [
        "type(str)"
      ],
      "metadata": {
        "colab": {
          "base_uri": "https://localhost:8080/"
        },
        "id": "8B3xSfwQJIGb",
        "outputId": "2d6d06cc-a285-4590-9c11-5848fc4b0a4c"
      },
      "execution_count": null,
      "outputs": [
        {
          "output_type": "execute_result",
          "data": {
            "text/plain": [
              "type"
            ]
          },
          "metadata": {},
          "execution_count": 5
        }
      ]
    },
    {
      "cell_type": "markdown",
      "source": [
        "Functions are also objects in python"
      ],
      "metadata": {
        "id": "1AENJ6ZYJNg6"
      }
    },
    {
      "cell_type": "code",
      "source": [
        "print()"
      ],
      "metadata": {
        "colab": {
          "base_uri": "https://localhost:8080/"
        },
        "id": "qX67c77qJT3K",
        "outputId": "f53f79a9-81bc-4c6e-ba69-2ee6cb8202b8"
      },
      "execution_count": null,
      "outputs": [
        {
          "output_type": "stream",
          "name": "stdout",
          "text": [
            "\n"
          ]
        }
      ]
    },
    {
      "cell_type": "code",
      "source": [
        "type(print)"
      ],
      "metadata": {
        "colab": {
          "base_uri": "https://localhost:8080/"
        },
        "id": "MyysQqnWJXWU",
        "outputId": "ce3cf606-6a77-47d3-90e5-dc3ba9dd498a"
      },
      "execution_count": null,
      "outputs": [
        {
          "output_type": "execute_result",
          "data": {
            "text/plain": [
              "builtin_function_or_method"
            ]
          },
          "metadata": {},
          "execution_count": 7
        }
      ]
    },
    {
      "cell_type": "markdown",
      "source": [
        "**Variable: The reference to object**\n",
        "\n",
        "-- A defined name that refences an object"
      ],
      "metadata": {
        "id": "hunLn1izJkhk"
      }
    },
    {
      "cell_type": "code",
      "source": [
        "job_title = \"Data Analytics\"\n",
        "job_location = \"San Francisco\"\n",
        "job_salary = 90000\n",
        "my_print_function = print"
      ],
      "metadata": {
        "id": "ST4VcVRNJz-D"
      },
      "execution_count": null,
      "outputs": []
    },
    {
      "cell_type": "code",
      "source": [
        "my_print_function(job_title, job_location, job_salary)"
      ],
      "metadata": {
        "colab": {
          "base_uri": "https://localhost:8080/"
        },
        "id": "A3FqGapYKvD1",
        "outputId": "fcf0cfa5-76f3-41d4-9345-fe3ecdfd37ec"
      },
      "execution_count": null,
      "outputs": [
        {
          "output_type": "stream",
          "name": "stdout",
          "text": [
            "Data Analytics San Francisco 90000\n"
          ]
        }
      ]
    },
    {
      "cell_type": "code",
      "source": [
        "# Each variable has a unique identifier\n",
        "id(job_title), id(job_location), id(job_salary)"
      ],
      "metadata": {
        "colab": {
          "base_uri": "https://localhost:8080/"
        },
        "id": "xctw4HVgKu_v",
        "outputId": "05b2c3c3-6022-42c6-bbfd-ab71597989cb"
      },
      "execution_count": null,
      "outputs": [
        {
          "output_type": "execute_result",
          "data": {
            "text/plain": [
              "(134523277411056, 134523277423792, 134523618139344)"
            ]
          },
          "metadata": {},
          "execution_count": 11
        }
      ]
    },
    {
      "cell_type": "markdown",
      "source": [
        "Variable that refence the same object are...the same"
      ],
      "metadata": {
        "id": "KE0wp9QTLRDX"
      }
    },
    {
      "cell_type": "code",
      "source": [
        "my_job = job_title\n",
        "my_job"
      ],
      "metadata": {
        "colab": {
          "base_uri": "https://localhost:8080/",
          "height": 35
        },
        "id": "CGxlbcj2LM6v",
        "outputId": "9ba4b1a2-f29d-44ec-8ef6-8e009466a6ac"
      },
      "execution_count": null,
      "outputs": [
        {
          "output_type": "execute_result",
          "data": {
            "text/plain": [
              "'Data Analytics'"
            ],
            "application/vnd.google.colaboratory.intrinsic+json": {
              "type": "string"
            }
          },
          "metadata": {},
          "execution_count": 12
        }
      ]
    },
    {
      "cell_type": "code",
      "source": [
        "# the id of the same object is same\n",
        "id(my_job), id(job_title)"
      ],
      "metadata": {
        "colab": {
          "base_uri": "https://localhost:8080/"
        },
        "id": "5RGABbAtLb2S",
        "outputId": "4dedbba8-03b5-47bc-f5bd-8576893f21a3"
      },
      "execution_count": null,
      "outputs": [
        {
          "output_type": "execute_result",
          "data": {
            "text/plain": [
              "(134523277411056, 134523277411056)"
            ]
          },
          "metadata": {},
          "execution_count": 14
        }
      ]
    },
    {
      "cell_type": "code",
      "source": [
        "# the id of the same object is same\n",
        "job_title1 = \"Data Science\"\n",
        "job_title2 = \"Data Science\"\n",
        "id(job_title1), id(job_title2)"
      ],
      "metadata": {
        "colab": {
          "base_uri": "https://localhost:8080/"
        },
        "id": "bwu8WZ5zLehv",
        "outputId": "68de6c5d-ed68-4c86-b48f-e3d4b346c870"
      },
      "execution_count": null,
      "outputs": [
        {
          "output_type": "execute_result",
          "data": {
            "text/plain": [
              "(134523277426160, 134523277417136)"
            ]
          },
          "metadata": {},
          "execution_count": 16
        }
      ]
    },
    {
      "cell_type": "markdown",
      "source": [
        "**Functions: The manipulator of objects**\n",
        "\n",
        "-- A resuable piece of code that performs a specific task."
      ],
      "metadata": {
        "id": "ZH4mYN_UMGXD"
      }
    },
    {
      "cell_type": "code",
      "source": [
        "# provide functions argumentd to print in parenthesis\n",
        "print(\"Welcome to Python\")"
      ],
      "metadata": {
        "colab": {
          "base_uri": "https://localhost:8080/"
        },
        "id": "ASYExwQXMGuf",
        "outputId": "97c38108-8133-488c-e6f8-6b20cff0e4a2"
      },
      "execution_count": null,
      "outputs": [
        {
          "output_type": "stream",
          "name": "stdout",
          "text": [
            "Welcome to Python\n"
          ]
        }
      ]
    },
    {
      "cell_type": "code",
      "source": [
        "def print_welcome():\n",
        "    return (\"Welcome to Python\")"
      ],
      "metadata": {
        "id": "rIcz5PP8M69M"
      },
      "execution_count": null,
      "outputs": []
    },
    {
      "cell_type": "code",
      "source": [
        "print_welcome()"
      ],
      "metadata": {
        "colab": {
          "base_uri": "https://localhost:8080/",
          "height": 35
        },
        "id": "Nau7mlGZM-9N",
        "outputId": "667d9635-fb61-4cf4-ff6e-7be886bbaa96"
      },
      "execution_count": null,
      "outputs": [
        {
          "output_type": "execute_result",
          "data": {
            "text/plain": [
              "'Welcome to Python'"
            ],
            "application/vnd.google.colaboratory.intrinsic+json": {
              "type": "string"
            }
          },
          "metadata": {},
          "execution_count": 21
        }
      ]
    },
    {
      "cell_type": "code",
      "source": [
        "def display_info(title, location, salary):\n",
        "    print(f\"Job Title: {title}\")\n",
        "    print(f\"Job Location: {location}\")\n",
        "    print(f\"Job Salary: ${salary:,.2f}\")"
      ],
      "metadata": {
        "id": "arIlHmzCNPzW"
      },
      "execution_count": null,
      "outputs": []
    },
    {
      "cell_type": "code",
      "source": [
        "display_info(job_title, job_location, job_salary)"
      ],
      "metadata": {
        "colab": {
          "base_uri": "https://localhost:8080/"
        },
        "id": "wuLpY1_1NjPc",
        "outputId": "7f5605bd-1bc6-429e-de7b-ec968dc2d94a"
      },
      "execution_count": null,
      "outputs": [
        {
          "output_type": "stream",
          "name": "stdout",
          "text": [
            "Job Title: Data Analytics\n",
            "Job Location: San Francisco\n",
            "Job Salary: $90,000.00\n"
          ]
        }
      ]
    },
    {
      "cell_type": "markdown",
      "source": [
        "**Class: A template for creating objects**"
      ],
      "metadata": {
        "id": "xVCtt0m2OS0-"
      }
    },
    {
      "cell_type": "code",
      "source": [
        "class Job_post:\n",
        "  def __init__(self, title, location, salary):\n",
        "    self.title = title\n",
        "    self.location = location\n",
        "    self.salary = salary\n",
        "\n",
        "  def display_info(self):\n",
        "    print(f\"Job Title   : {self.title}\")\n",
        "    print(f\"Job Location: {self.location}\")\n",
        "    print(f\"Job Salary  : ${self.salary:,.2f}\")"
      ],
      "metadata": {
        "id": "7zB8d1l2ORON"
      },
      "execution_count": null,
      "outputs": []
    },
    {
      "cell_type": "code",
      "source": [
        "Job_post"
      ],
      "metadata": {
        "colab": {
          "base_uri": "https://localhost:8080/",
          "height": 103
        },
        "id": "KX-RoNpZO5Ge",
        "outputId": "ba96b943-c19c-4d89-9c46-f21c14bc5189"
      },
      "execution_count": null,
      "outputs": [
        {
          "output_type": "execute_result",
          "data": {
            "text/plain": [
              "__main__.Job_post"
            ],
            "text/html": [
              "<div style=\"max-width:800px; border: 1px solid var(--colab-border-color);\"><style>\n",
              "      pre.function-repr-contents {\n",
              "        overflow-x: auto;\n",
              "        padding: 8px 12px;\n",
              "        max-height: 500px;\n",
              "      }\n",
              "\n",
              "      pre.function-repr-contents.function-repr-contents-collapsed {\n",
              "        cursor: pointer;\n",
              "        max-height: 100px;\n",
              "      }\n",
              "    </style>\n",
              "    <pre style=\"white-space: initial; background:\n",
              "         var(--colab-secondary-surface-color); padding: 8px 12px;\n",
              "         border-bottom: 1px solid var(--colab-border-color);\"><b>Job_post</b><br/>def __init__(title, location, salary)</pre><pre class=\"function-repr-contents function-repr-contents-collapsed\" style=\"\"><a class=\"filepath\" style=\"display:none\" href=\"#\"></a>&lt;no docstring&gt;</pre></div>"
            ]
          },
          "metadata": {},
          "execution_count": 33
        }
      ]
    },
    {
      "cell_type": "markdown",
      "source": [
        "**Attribute: A field in a record, defined by its class**"
      ],
      "metadata": {
        "id": "DGYD_jpBPaz5"
      }
    },
    {
      "cell_type": "code",
      "source": [
        "job = Job_post(\"Data Analytics\", \"San Francisco\", 90000)"
      ],
      "metadata": {
        "id": "kMw0CJ0zPjeV"
      },
      "execution_count": null,
      "outputs": []
    },
    {
      "cell_type": "code",
      "source": [
        "job.title"
      ],
      "metadata": {
        "colab": {
          "base_uri": "https://localhost:8080/",
          "height": 35
        },
        "id": "Z1UGubPcP5RL",
        "outputId": "77fb940e-167e-45ca-b943-a84b30222e34"
      },
      "execution_count": null,
      "outputs": [
        {
          "output_type": "execute_result",
          "data": {
            "text/plain": [
              "'Data Analytics'"
            ],
            "application/vnd.google.colaboratory.intrinsic+json": {
              "type": "string"
            }
          },
          "metadata": {},
          "execution_count": 35
        }
      ]
    },
    {
      "cell_type": "code",
      "source": [
        "job.salary"
      ],
      "metadata": {
        "colab": {
          "base_uri": "https://localhost:8080/"
        },
        "id": "YZGICW6eP7to",
        "outputId": "721bbf0d-6df8-4bca-994d-06d6d8be34ae"
      },
      "execution_count": null,
      "outputs": [
        {
          "output_type": "execute_result",
          "data": {
            "text/plain": [
              "90000"
            ]
          },
          "metadata": {},
          "execution_count": 36
        }
      ]
    },
    {
      "cell_type": "markdown",
      "source": [
        "**Method: The function of an object**\n",
        "\n",
        "-- A function defined inside a class that operates on its object."
      ],
      "metadata": {
        "id": "QcmeuwY1QAZ8"
      }
    },
    {
      "cell_type": "code",
      "source": [
        "job = Job_post(\"Data Analytics\", \"San Francisco\", 90000)\n",
        "job.display_info()"
      ],
      "metadata": {
        "colab": {
          "base_uri": "https://localhost:8080/"
        },
        "id": "GxxD311LP94K",
        "outputId": "94713708-e326-4605-995a-fe67c1211962"
      },
      "execution_count": null,
      "outputs": [
        {
          "output_type": "stream",
          "name": "stdout",
          "text": [
            "Job Title   : Data Analytics\n",
            "Job Location: San Francisco\n",
            "Job Salary  : $90,000.00\n"
          ]
        }
      ]
    },
    {
      "cell_type": "markdown",
      "source": [
        "# New Section"
      ],
      "metadata": {
        "id": "aYiTZFexSP5P"
      }
    },
    {
      "cell_type": "markdown",
      "source": [],
      "metadata": {
        "id": "gyvpJaYFSSAr"
      }
    },
    {
      "cell_type": "code",
      "source": [],
      "metadata": {
        "id": "Ryleg-6eSRAB"
      },
      "execution_count": null,
      "outputs": []
    }
  ]
}